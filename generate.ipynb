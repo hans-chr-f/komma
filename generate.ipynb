{
 "cells": [
  {
   "cell_type": "code",
   "execution_count": 150,
   "id": "f63f40c8",
   "metadata": {},
   "outputs": [],
   "source": [
    "import os"
   ]
  },
  {
   "cell_type": "code",
   "execution_count": 151,
   "id": "9a91f5b7",
   "metadata": {},
   "outputs": [
    {
     "name": "stdout",
     "output_type": "stream",
     "text": [
      "     797 train.txt\r\n"
     ]
    }
   ],
   "source": [
    "!wc -l train.txt"
   ]
  },
  {
   "cell_type": "code",
   "execution_count": 152,
   "id": "bb3f71de",
   "metadata": {},
   "outputs": [
    {
     "name": "stdout",
     "output_type": "stream",
     "text": [
      "     750\r\n"
     ]
    }
   ],
   "source": [
    "!grep -v '^#' train.txt | wc -l"
   ]
  },
  {
   "cell_type": "code",
   "execution_count": 153,
   "id": "42c0dd08",
   "metadata": {},
   "outputs": [],
   "source": [
    "! cat test.txt train.txt > all.txt"
   ]
  },
  {
   "cell_type": "code",
   "execution_count": 154,
   "id": "b3fa7c88",
   "metadata": {},
   "outputs": [
    {
     "name": "stdout",
     "output_type": "stream",
     "text": [
      "total 1888\r\n",
      "-rw-r--r--@ 1 hanscfa  staff   110K May  8 12:02 all.txt\r\n",
      "-rw-r--r--@ 1 hanscfa  staff   108K May  8 12:01 all_no_comments.txt\r\n",
      "-rw-r--r--@ 1 hanscfa  staff   7.8K May  8 12:02 generate.ipynb\r\n",
      "-rw-r--r--@ 1 hanscfa  staff   103K May  8 12:01 good.txt\r\n",
      "-rw-r--r--@ 1 hanscfa  staff   113K May  8 11:07 good_1.txt\r\n",
      "-rw-r--r--@ 1 hanscfa  staff   219K May  8 11:59 good_converted.json\r\n",
      "-rw-r--r--@ 1 hanscfa  staff   1.5K May  8 10:07 kommaregler.json\r\n",
      "-rw-r--r--@ 1 hanscfa  staff    15K May  8 12:00 test.txt\r\n",
      "-rw-r--r--@ 1 hanscfa  staff    96K May  8 12:02 train.txt\r\n"
     ]
    }
   ],
   "source": [
    "! ls -lh"
   ]
  },
  {
   "cell_type": "code",
   "execution_count": 155,
   "id": "7f960345",
   "metadata": {},
   "outputs": [],
   "source": [
    "!grep -v '^#' all.txt > all_no_comments.txt"
   ]
  },
  {
   "cell_type": "code",
   "execution_count": 156,
   "id": "3d9cad83",
   "metadata": {},
   "outputs": [
    {
     "name": "stdout",
     "output_type": "stream",
     "text": [
      "     990 all.txt\r\n"
     ]
    }
   ],
   "source": [
    "! wc -l all.txt"
   ]
  },
  {
   "cell_type": "code",
   "execution_count": 157,
   "id": "5ff1ca6e",
   "metadata": {},
   "outputs": [
    {
     "name": "stdout",
     "output_type": "stream",
     "text": [
      "     910 all_no_comments.txt\r\n"
     ]
    }
   ],
   "source": [
    "! wc -l all_no_comments.txt"
   ]
  },
  {
   "cell_type": "code",
   "execution_count": 158,
   "id": "095fc5b0",
   "metadata": {},
   "outputs": [
    {
     "name": "stdout",
     "output_type": "stream",
     "text": [
      "      70\r\n"
     ]
    }
   ],
   "source": [
    "! grep '> 99$' all_no_comments.txt | wc -l"
   ]
  },
  {
   "cell_type": "code",
   "execution_count": 159,
   "id": "d62690ea",
   "metadata": {},
   "outputs": [],
   "source": [
    "! grep -v '> 99$' all_no_comments.txt > good.txt"
   ]
  },
  {
   "cell_type": "code",
   "execution_count": 160,
   "id": "dc2cb27e",
   "metadata": {},
   "outputs": [
    {
     "name": "stdout",
     "output_type": "stream",
     "text": [
      "En vinter <KOMMA> det må ha vært i 1990 <KOMMA> bodde han i USA. > 503\r\n",
      "Lov om petroleumsvirksomhet <KOMMA> lov 29. november 1996 nr. 72 <KOMMA> fastslår at staten har eksklusiv rett til ressursforvaltning. > 501\r\n",
      "Alle studiene i boken er gjennomført i perioden 2000–2006 <KOMMA> altså i årene etter den asiatiske finanskrisen i 1997 <KOMMA> og inkluderer studier fra Thailand. > 502\r\n"
     ]
    }
   ],
   "source": [
    "! grep '99' good.txt"
   ]
  },
  {
   "cell_type": "code",
   "execution_count": 161,
   "id": "ad5a6f4d",
   "metadata": {},
   "outputs": [
    {
     "name": "stdout",
     "output_type": "stream",
     "text": [
      "     840 good.txt\r\n"
     ]
    }
   ],
   "source": [
    "!wc -l good.txt"
   ]
  },
  {
   "cell_type": "code",
   "execution_count": 162,
   "id": "f2c6b6f8",
   "metadata": {},
   "outputs": [
    {
     "name": "stdout",
     "output_type": "stream",
     "text": [
      "Processed file written to good_converted.json\n"
     ]
    }
   ],
   "source": [
    "import json\n",
    "# Replace 'filename.txt' with the path to your file\n",
    "input_filename = 'good.txt'\n",
    "output_filename = input_filename.rsplit('.', 1)[0] + '_converted.json'\n",
    "\n",
    "# Function to process each line based on the rules you provided\n",
    "def process_line(first_part, second_part):\n",
    "    # Initialize correct and wrong versions of the first part\n",
    "    correct_sentence, wrong_sentence = first_part, second_part\n",
    "    category = None\n",
    "\n",
    "    # Apply the ' <KOMMA>' rule\n",
    "    if ' <KOMMA>' in first_part:\n",
    "        correct_sentence = first_part.replace(' <KOMMA>', ',')\n",
    "        wrong_sentence = first_part.replace(' <KOMMA>', '')\n",
    "\n",
    "    # Apply the ' <IKKE>' rule\n",
    "    elif ' <IKKE>' in first_part:\n",
    "        correct_sentence = first_part.replace(' <IKKE>', '')\n",
    "        wrong_sentence = first_part.replace(' <IKKE>', ',')\n",
    "\n",
    "    # Extract category as an integer\n",
    "    try:\n",
    "        category = int(second_part.strip())\n",
    "    except ValueError:\n",
    "        print(f\"Warning: Unable to convert '{second_part.strip()}' to an integer.\")\n",
    "\n",
    "    # Create a dictionary object for the JSON output\n",
    "    return {\n",
    "        \"correct\": correct_sentence,\n",
    "        \"wrong\": wrong_sentence,\n",
    "        \"category\": category\n",
    "    }\n",
    "\n",
    "# Open the input file and process each line\n",
    "with open(input_filename, 'r') as infile, open(output_filename, 'w') as outfile:\n",
    "    for line in infile:\n",
    "        line = line.strip()\n",
    "\n",
    "        # Split at the first occurrence of '>'\n",
    "        parts = line.split(' > ', 1)\n",
    "        if len(parts) < 2:\n",
    "            print(f\"Warning: No '>' found in line: {line}\")\n",
    "            continue\n",
    "\n",
    "        # Extract and strip the first and second parts\n",
    "        first_part = parts[0].strip()\n",
    "        second_part = parts[1].strip()\n",
    "\n",
    "        # Process the line using the defined rules\n",
    "        json_object = process_line(first_part, second_part)\n",
    "\n",
    "        # Serialize the object to a JSON string with double quotes\n",
    "        json_string = json.dumps(json_object, ensure_ascii=False)\n",
    "\n",
    "        # Write the JSON string to the output file\n",
    "        outfile.write(f\"{json_string}\\n\")\n",
    "\n",
    "print(f\"Processed file written to {output_filename}\")\n"
   ]
  }
 ],
 "metadata": {
  "kernelspec": {
   "display_name": "Python 3 (ipykernel)",
   "language": "python",
   "name": "python3"
  },
  "language_info": {
   "codemirror_mode": {
    "name": "ipython",
    "version": 3
   },
   "file_extension": ".py",
   "mimetype": "text/x-python",
   "name": "python",
   "nbconvert_exporter": "python",
   "pygments_lexer": "ipython3",
   "version": "3.11.8"
  }
 },
 "nbformat": 4,
 "nbformat_minor": 5
}
